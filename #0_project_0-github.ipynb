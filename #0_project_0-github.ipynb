{
 "cells": [
  {
   "cell_type": "code",
   "execution_count": 1,
   "metadata": {},
   "outputs": [
    {
     "name": "stdout",
     "output_type": "stream",
     "text": [
      "Программа загадала номер 24\n",
      "Игра угадывает 50\n",
      "Неверно, число меньше, чем 50\n",
      "Игра угадывает 25\n",
      "Неверно, число меньше, чем 25\n",
      "Игра угадывает 12\n",
      "Неверно, число больше, чем 12\n",
      "Игра угадывает 18\n",
      "Неверно, число больше, чем 18\n",
      "Игра угадывает 22\n",
      "Неверно, число больше, чем 22\n",
      "Игра угадывает 24\n",
      "Верно, это именно 24, поздравляю!\n",
      "Вы угадали число за 5 попыток\n"
     ]
    }
   ],
   "source": [
    "import random \n",
    "\n",
    "#При помощи random задаем число в диапазоне от 1 до 100 включительно\n",
    "number = random.randrange(1,101) \n",
    "\n",
    "print(f\"Программа загадала номер {number}\") \n",
    "#Задаем переменную минимальное число в диапазоне\n",
    "min_number = 1\n",
    "#Задаем переменную максимальное число в диапазоне\n",
    "max_number = 100 \n",
    "#Задаем переменную счетчик попыток\n",
    "count = 0 \n",
    "#Задаем переменную для помещения номера для угадывания\n",
    "your_number = 0\n",
    "\n",
    "#Задаем цикл, попробуем угадать номер за 10 попыток\n",
    "while count < 10:\n",
    "    #Программа угадывает округленное среднее значение интервала\n",
    "    your_number = round((min_number + max_number) / 2)\n",
    "    print(f\"Игра угадывает {your_number}\") \n",
    "    #Проверяем если загаданное число больше предложенного программой\n",
    "    if number > your_number:\n",
    "        print(f\"Неверно, число больше, чем {your_number}\")\n",
    "        #Переназначаем нижнюю границу интервала\n",
    "        min_number = your_number + 1  \n",
    "    #Проверяем если загаданное число меньше предложенного программой\n",
    "    elif number < your_number: \n",
    "        print(f\"Неверно, число меньше, чем {your_number}\") \n",
    "        #Переназначаем вернюю границу интервала\n",
    "        max_number = your_number - 1 \n",
    "    \n",
    "    #Если число не больше и не меньше предложенного программой, то значит оно равно загаданному числу.         \n",
    "    else: \n",
    "        print (f\"Верно, это именно {your_number}, поздравляю!\") \n",
    "        print(f\"Вы угадали число за {count} попыток\")\n",
    "        #Завершение и выход из цикла\n",
    "        count = 10\n",
    "    #Увеличиваем счетчик попыток на 1 попытку\n",
    "    count += 1 \n",
    "    "
   ]
  },
  {
   "cell_type": "code",
   "execution_count": null,
   "metadata": {},
   "outputs": [],
   "source": []
  }
 ],
 "metadata": {
  "kernelspec": {
   "display_name": "Python 3",
   "language": "python",
   "name": "python3"
  },
  "language_info": {
   "codemirror_mode": {
    "name": "ipython",
    "version": 3
   },
   "file_extension": ".py",
   "mimetype": "text/x-python",
   "name": "python",
   "nbconvert_exporter": "python",
   "pygments_lexer": "ipython3",
   "version": "3.8.5"
  }
 },
 "nbformat": 4,
 "nbformat_minor": 4
}
